{
  "nbformat": 4,
  "nbformat_minor": 0,
  "metadata": {
    "colab": {
      "provenance": [],
      "gpuType": "T4",
      "authorship_tag": "ABX9TyMoLGEjgctt8tGQN1dETyCV",
      "include_colab_link": true
    },
    "kernelspec": {
      "name": "python3",
      "display_name": "Python 3"
    },
    "language_info": {
      "name": "python"
    },
    "accelerator": "GPU"
  },
  "cells": [
    {
      "cell_type": "markdown",
      "metadata": {
        "id": "view-in-github",
        "colab_type": "text"
      },
      "source": [
        "<a href=\"https://colab.research.google.com/github/tamilmetaverse/PythonBasics/blob/main/Lesson1_Print.ipynb\" target=\"_parent\"><img src=\"https://colab.research.google.com/assets/colab-badge.svg\" alt=\"Open In Colab\"/></a>"
      ]
    },
    {
      "cell_type": "markdown",
      "source": [
        "# **Basic print statements in Python**"
      ],
      "metadata": {
        "id": "Twrn5rhK43Iq"
      }
    },
    {
      "cell_type": "markdown",
      "source": [
        "Pillayar suzhi, perumaaluku salaam"
      ],
      "metadata": {
        "id": "Nlr00A3kDsOW"
      }
    },
    {
      "cell_type": "code",
      "execution_count": null,
      "metadata": {
        "colab": {
          "base_uri": "https://localhost:8080/"
        },
        "id": "nnXzoLgyN__o",
        "outputId": "5a4a84c3-cb42-4007-8fc1-cba93c3116c1"
      },
      "outputs": [
        {
          "output_type": "stream",
          "name": "stdout",
          "text": [
            "sriramajayam\n"
          ]
        }
      ],
      "source": [
        "print(\"sriramajayam\")"
      ]
    },
    {
      "cell_type": "markdown",
      "source": [
        "Sep - parameter ,\n",
        "\n",
        "\n",
        "\n",
        "\n",
        "\n",
        "1.   oru function ku neraya parameter anupalam. sep na seperator nu oru parameter. Adhu end la default ta irukum adhunala automatic ka two words ku naduvula oru space uruvagum.\n",
        "2.    Naduvula edhadhu varanum, sep la assign pannanum. space venam na sep pa empty ya assign pannanum\n",
        "\n"
      ],
      "metadata": {
        "id": "nLKG9wsWOiiY"
      }
    },
    {
      "cell_type": "markdown",
      "source": [],
      "metadata": {
        "id": "dJxSWlvAQuPB"
      }
    },
    {
      "cell_type": "code",
      "source": [
        "print(\"Hello\",\"World\",sep=\"-\")#seperator"
      ],
      "metadata": {
        "colab": {
          "base_uri": "https://localhost:8080/"
        },
        "id": "jf947046OUR_",
        "outputId": "730f2484-00b6-472a-974f-54f6d2c4627c"
      },
      "execution_count": null,
      "outputs": [
        {
          "output_type": "stream",
          "name": "stdout",
          "text": [
            "Hello-World\n"
          ]
        }
      ]
    },
    {
      "cell_type": "code",
      "source": [
        "print(\"Hello\",\"World\",sep=\"\") #seperator"
      ],
      "metadata": {
        "colab": {
          "base_uri": "https://localhost:8080/"
        },
        "id": "-PVluIfDPrZt",
        "outputId": "38e6190e-2995-4667-8be2-35ee21ff9ed5"
      },
      "execution_count": null,
      "outputs": [
        {
          "output_type": "stream",
          "name": "stdout",
          "text": [
            "HelloWorld\n"
          ]
        }
      ]
    },
    {
      "cell_type": "markdown",
      "source": [
        "\\n na enter equivalent(next line) nu artham\n",
        "\\t na tab sapace nu artham"
      ],
      "metadata": {
        "id": "-zlHte-W5Jii"
      }
    },
    {
      "cell_type": "code",
      "source": [
        "print(\"Hello\",\"World\",\"Everyone\",sep=\"\\n\") #seperator\n",
        "print(\"Hello\",\"World\",\"program\", \"by Varun\",sep=\"\\t\")#speperator"
      ],
      "metadata": {
        "colab": {
          "base_uri": "https://localhost:8080/"
        },
        "id": "8WJt9SSq40Bp",
        "outputId": "5f90db0c-2349-4014-a7fa-9a8051861c77"
      },
      "execution_count": null,
      "outputs": [
        {
          "output_type": "stream",
          "name": "stdout",
          "text": [
            "Hello\n",
            "World\n",
            "Everyone\n",
            "Hello\tWorld\tprogram\tby Varun\n"
          ]
        }
      ]
    },
    {
      "cell_type": "markdown",
      "source": [
        "Concatenate pann + use pannalam. plus use panna space varadhu"
      ],
      "metadata": {
        "id": "KS9-4Hc-6zSD"
      }
    },
    {
      "cell_type": "code",
      "source": [
        "print(\"Hello \" + \"World \"+ \"idhu oru string concatenation function, plus pota ellame join aagidum\") #concatenate using + symbol"
      ],
      "metadata": {
        "colab": {
          "base_uri": "https://localhost:8080/"
        },
        "id": "uGaPBmxq6lTT",
        "outputId": "e3f71d1a-a036-4191-876f-7cbcff7aaed0"
      },
      "execution_count": null,
      "outputs": [
        {
          "output_type": "stream",
          "name": "stdout",
          "text": [
            "Hello World idhu oru string concatenation function, plus pota ellame join aagidum\n"
          ]
        }
      ]
    },
    {
      "cell_type": "markdown",
      "source": [
        "End use panna porom friends"
      ],
      "metadata": {
        "id": "Sacy6WTt7hvE"
      }
    },
    {
      "cell_type": "code",
      "source": [
        "print(\"hello\",\"world\",\"tamilmetaverse yaaru\", end=\" ?\")"
      ],
      "metadata": {
        "colab": {
          "base_uri": "https://localhost:8080/"
        },
        "id": "ITOT4GFh7ggL",
        "outputId": "64f9b3a9-f799-4863-926a-79720a971997"
      },
      "execution_count": null,
      "outputs": [
        {
          "output_type": "stream",
          "name": "stdout",
          "text": [
            "hello world tamilmetaverse yaaru ?"
          ]
        }
      ]
    },
    {
      "cell_type": "markdown",
      "source": [
        "Escapeeeeeeeee\n",
        "pattern create panna use aagum friends\n"
      ],
      "metadata": {
        "id": "ThQWZk_dBDYn"
      }
    },
    {
      "cell_type": "code",
      "source": [
        "print(\"Hello\\tWorld\\n pattern varaivom\") #escape\n",
        "print(\"#\\n##\\n###\\n####\")"
      ],
      "metadata": {
        "colab": {
          "base_uri": "https://localhost:8080/"
        },
        "id": "VnUxk7CKBFij",
        "outputId": "be04f8a2-8abb-4314-d756-4f0128018f3d"
      },
      "execution_count": null,
      "outputs": [
        {
          "output_type": "stream",
          "name": "stdout",
          "text": [
            "Hello\tWorld\n",
            " pattern varaivom\n",
            "#\n",
            "##\n",
            "###\n",
            "####\n"
          ]
        }
      ]
    },
    {
      "cell_type": "code",
      "source": [
        "print(\"Hello\\bWorld\") #backspace function - \\b (adhuku munnadi iruka lettera delete paniruvaan ivan)"
      ],
      "metadata": {
        "colab": {
          "base_uri": "https://localhost:8080/"
        },
        "id": "ikLsL1zHBsUY",
        "outputId": "8a798150-a9b0-4db9-cb61-533452a469e9"
      },
      "execution_count": null,
      "outputs": [
        {
          "output_type": "stream",
          "name": "stdout",
          "text": [
            "Hello\bWorld\n"
          ]
        }
      ]
    },
    {
      "cell_type": "code",
      "source": [
        "Raw vaana rowdy ivar - the raw string\n",
        "\n",
        "C:\\Users\\tamil\\OneDrive\\Documents idha print panna statement la kudutha error adikum yenna \\ appdindradhu escape sequence. so idhu mari aaguradha avoid panna raw string use pannnanum friends.\n",
        "\n",
        "ipo paarungalen na idha adichu error katuren\n"
      ],
      "metadata": {
        "colab": {
          "base_uri": "https://localhost:8080/",
          "height": 106
        },
        "id": "DkzAuPw9CIBq",
        "outputId": "c7b4e9de-e5cf-44c0-9d92-4d8bb2264480"
      },
      "execution_count": null,
      "outputs": [
        {
          "output_type": "error",
          "ename": "SyntaxError",
          "evalue": "invalid syntax (<ipython-input-64-b4e14b49677c>, line 1)",
          "traceback": [
            "\u001b[0;36m  File \u001b[0;32m\"<ipython-input-64-b4e14b49677c>\"\u001b[0;36m, line \u001b[0;32m1\u001b[0m\n\u001b[0;31m    Raw vaana rowdy ivar - the raw string\u001b[0m\n\u001b[0m        ^\u001b[0m\n\u001b[0;31mSyntaxError\u001b[0m\u001b[0;31m:\u001b[0m invalid syntax\n"
          ]
        }
      ]
    },
    {
      "cell_type": "code",
      "source": [
        "print(\"C:\\Users\\tamil\\OneDrive\\Documents\") # raw string use pannala na error varum. idha or extra slash potu kooda seri pannalam but raw string use panna bestttu. enna error vandhuruku apdina enna nu keela soliruken paaruga\n"
      ],
      "metadata": {
        "colab": {
          "base_uri": "https://localhost:8080/",
          "height": 106
        },
        "id": "DV62pPTRCnbN",
        "outputId": "96536d32-363b-4b0b-e9ed-ed2de4c385ba"
      },
      "execution_count": null,
      "outputs": [
        {
          "output_type": "error",
          "ename": "SyntaxError",
          "evalue": "(unicode error) 'unicodeescape' codec can't decode bytes in position 2-3: truncated \\UXXXXXXXX escape (<ipython-input-63-e4a19d653b2a>, line 1)",
          "traceback": [
            "\u001b[0;36m  File \u001b[0;32m\"<ipython-input-63-e4a19d653b2a>\"\u001b[0;36m, line \u001b[0;32m1\u001b[0m\n\u001b[0;31m    print(\"C:\\Users\\tamil\\OneDrive\\Documents\") # raw string use pannala na error varum. idha or extra slash potu kooda seri pannalam but raw string use panna bestttu. enna error vandhuruku apdina enna nu keela soliruken paaruga\u001b[0m\n\u001b[0m                                             ^\u001b[0m\n\u001b[0;31mSyntaxError\u001b[0m\u001b[0;31m:\u001b[0m (unicode error) 'unicodeescape' codec can't decode bytes in position 2-3: truncated \\UXXXXXXXX escape\n"
          ]
        }
      ]
    },
    {
      "cell_type": "markdown",
      "source": [
        "These errors typically occur when a backslash (\\) is used in a string and is not properly escaped or interpreted."
      ],
      "metadata": {
        "id": "Qypmc0RbDU9u"
      }
    },
    {
      "cell_type": "code",
      "source": [
        "print(\"C:\\\\Users\\tamil\\OneDrive\\Documents\") #raw string use panna, aana parunga error adikala, onnu note panningala - tamil la \\t nu nenechutu space vandhuruchu. idhuku than raw string use pannanum"
      ],
      "metadata": {
        "colab": {
          "base_uri": "https://localhost:8080/"
        },
        "id": "Pnkppa96C1bd",
        "outputId": "e0609dbd-786c-41c0-b943-c490aaf1f5b6"
      },
      "execution_count": null,
      "outputs": [
        {
          "output_type": "stream",
          "name": "stdout",
          "text": [
            "C:\\Users\tamil\\OneDrive\\Documents\n"
          ]
        }
      ]
    },
    {
      "cell_type": "code",
      "source": [
        "print(r\"C:\\Users\\tamil\\OneDrive\\Documents\") #raw string"
      ],
      "metadata": {
        "colab": {
          "base_uri": "https://localhost:8080/"
        },
        "id": "jFvv9fLSCMDH",
        "outputId": "c165c2ca-0278-4d18-891d-eb6262df216f"
      },
      "execution_count": null,
      "outputs": [
        {
          "output_type": "stream",
          "name": "stdout",
          "text": [
            "C:\\Users\\tamil\\OneDrive\\Documents\n"
          ]
        }
      ]
    },
    {
      "cell_type": "markdown",
      "source": [
        "Idhu enna datatype la irukum\n",
        "number print panna adhu int aagiruma? kandupidipom vaanga"
      ],
      "metadata": {
        "id": "lhmzMCvXEXuJ"
      }
    },
    {
      "cell_type": "code",
      "source": [
        "print(10)\n",
        "print(\"abc\")\n",
        "print(\"abc\"+ 123) #vera vera data type"
      ],
      "metadata": {
        "colab": {
          "base_uri": "https://localhost:8080/",
          "height": 211
        },
        "id": "GCYttdHxEfTO",
        "outputId": "e25a144b-0622-498c-edc3-b41cbb30c948"
      },
      "execution_count": null,
      "outputs": [
        {
          "output_type": "stream",
          "name": "stdout",
          "text": [
            "10\n",
            "abc\n"
          ]
        },
        {
          "output_type": "error",
          "ename": "TypeError",
          "evalue": "can only concatenate str (not \"int\") to str",
          "traceback": [
            "\u001b[0;31m---------------------------------------------------------------------------\u001b[0m",
            "\u001b[0;31mTypeError\u001b[0m                                 Traceback (most recent call last)",
            "\u001b[0;32m<ipython-input-67-b58093a8b199>\u001b[0m in \u001b[0;36m<cell line: 3>\u001b[0;34m()\u001b[0m\n\u001b[1;32m      1\u001b[0m \u001b[0mprint\u001b[0m\u001b[0;34m(\u001b[0m\u001b[0;36m10\u001b[0m\u001b[0;34m)\u001b[0m\u001b[0;34m\u001b[0m\u001b[0;34m\u001b[0m\u001b[0m\n\u001b[1;32m      2\u001b[0m \u001b[0mprint\u001b[0m\u001b[0;34m(\u001b[0m\u001b[0;34m\"abc\"\u001b[0m\u001b[0;34m)\u001b[0m\u001b[0;34m\u001b[0m\u001b[0;34m\u001b[0m\u001b[0m\n\u001b[0;32m----> 3\u001b[0;31m \u001b[0mprint\u001b[0m\u001b[0;34m(\u001b[0m\u001b[0;34m\"abc\"\u001b[0m\u001b[0;34m+\u001b[0m \u001b[0;36m123\u001b[0m\u001b[0;34m)\u001b[0m\u001b[0;34m\u001b[0m\u001b[0;34m\u001b[0m\u001b[0m\n\u001b[0m",
            "\u001b[0;31mTypeError\u001b[0m: can only concatenate str (not \"int\") to str"
          ]
        }
      ]
    },
    {
      "cell_type": "markdown",
      "source": [
        "idha solve panna type casting pannanum"
      ],
      "metadata": {
        "id": "7NXD_T7SExi0"
      }
    },
    {
      "cell_type": "code",
      "source": [
        "print(\"abc\\n\"+str(\"123\")) #typecasting panna andha data type vera datatype pa aagiudum"
      ],
      "metadata": {
        "colab": {
          "base_uri": "https://localhost:8080/"
        },
        "id": "BxzWarOQEpBS",
        "outputId": "f3a21051-ca65-4c51-a278-ded4752d70dd"
      },
      "execution_count": null,
      "outputs": [
        {
          "output_type": "stream",
          "name": "stdout",
          "text": [
            "abc\n",
            "123\n"
          ]
        }
      ]
    },
    {
      "cell_type": "markdown",
      "source": [
        "quotes varanume nu nenecha adhuku renud vazhi iruku"
      ],
      "metadata": {
        "id": "ptlqLmrJFyHe"
      }
    },
    {
      "cell_type": "code",
      "source": [
        "print('I went to the \"BEST\" restaturant') #enclosing single or double quote potu paarunga . sappaya varum"
      ],
      "metadata": {
        "colab": {
          "base_uri": "https://localhost:8080/"
        },
        "id": "ijg6AyVuGJ0Q",
        "outputId": "e02cf1f3-b793-43d2-d413-c1b54fd65167"
      },
      "execution_count": null,
      "outputs": [
        {
          "output_type": "stream",
          "name": "stdout",
          "text": [
            "I went to the \"BEST\" restaturant\n"
          ]
        }
      ]
    },
    {
      "cell_type": "markdown",
      "source": [
        "Paragraph ku enna pannalamna triple quotes potrunga."
      ],
      "metadata": {
        "id": "u0gQ-TZcGYRM"
      }
    },
    {
      "cell_type": "code",
      "source": [
        "print(\"\"\" Hi\\n\n",
        "idhu\n",
        "oru\n",
        "Triple quote\"\"\") #multiline string nu peru"
      ],
      "metadata": {
        "colab": {
          "base_uri": "https://localhost:8080/"
        },
        "id": "c6aZfLgEGcgX",
        "outputId": "09ba2e34-bd10-435f-f81c-a80591c58b62"
      },
      "execution_count": null,
      "outputs": [
        {
          "output_type": "stream",
          "name": "stdout",
          "text": [
            " Hi\n",
            " \n",
            "idhu\n",
            "oru \n",
            "Triple quote\n"
          ]
        }
      ]
    },
    {
      "cell_type": "markdown",
      "source": [
        "Plus ku badhila into pota multiply kooda agumn"
      ],
      "metadata": {
        "id": "AYWIbsE4G21k"
      }
    },
    {
      "cell_type": "code",
      "source": [
        "print(\"\\nHello World\\n \" * 20) #string multiplication"
      ],
      "metadata": {
        "colab": {
          "base_uri": "https://localhost:8080/"
        },
        "id": "NgwElPXxGv_m",
        "outputId": "72f17ab1-02c5-43e3-e033-92aa3da0614b"
      },
      "execution_count": null,
      "outputs": [
        {
          "output_type": "stream",
          "name": "stdout",
          "text": [
            "\n",
            "Hello World\n",
            " \n",
            "Hello World\n",
            " \n",
            "Hello World\n",
            " \n",
            "Hello World\n",
            " \n",
            "Hello World\n",
            " \n",
            "Hello World\n",
            " \n",
            "Hello World\n",
            " \n",
            "Hello World\n",
            " \n",
            "Hello World\n",
            " \n",
            "Hello World\n",
            " \n",
            "Hello World\n",
            " \n",
            "Hello World\n",
            " \n",
            "Hello World\n",
            " \n",
            "Hello World\n",
            " \n",
            "Hello World\n",
            " \n",
            "Hello World\n",
            " \n",
            "Hello World\n",
            " \n",
            "Hello World\n",
            " \n",
            "Hello World\n",
            " \n",
            "Hello World\n",
            " \n"
          ]
        }
      ]
    },
    {
      "cell_type": "markdown",
      "source": [
        "Format pannalama"
      ],
      "metadata": {
        "id": "bok4sLFxHFE7"
      }
    },
    {
      "cell_type": "code",
      "source": [
        "name = \"abc\"\n",
        "print(\"My name is \"+ name)"
      ],
      "metadata": {
        "colab": {
          "base_uri": "https://localhost:8080/"
        },
        "id": "71wAKorUHGrw",
        "outputId": "3bf47c23-fd9b-496c-ed99-60ed5ed2d2b2"
      },
      "execution_count": null,
      "outputs": [
        {
          "output_type": "stream",
          "name": "stdout",
          "text": [
            "My name is abc\n"
          ]
        }
      ]
    },
    {
      "cell_type": "code",
      "source": [
        "name = \"abc\"\n",
        "age = \"25\"\n",
        "print(\"Name: {}, Age: {}\".format(name,age)) # format\n",
        "print(\"Name:{1}, Age:{0}\".format(name,age))# positioning pannalam 0, 1, 2 array madhiri"
      ],
      "metadata": {
        "id": "GhVnhDnGHdOB",
        "colab": {
          "base_uri": "https://localhost:8080/"
        },
        "outputId": "7f99053b-119e-451b-b7a0-16d0d6238a6a"
      },
      "execution_count": 72,
      "outputs": [
        {
          "output_type": "stream",
          "name": "stdout",
          "text": [
            "Name: abc, Age: 25\n",
            "Name:25, Age:abc\n"
          ]
        }
      ]
    },
    {
      "cell_type": "code",
      "source": [
        "print(\"\\nHelloWorld.\"* 10, sep=\"%\", end=\"..\")"
      ],
      "metadata": {
        "colab": {
          "base_uri": "https://localhost:8080/"
        },
        "id": "4zPo-l-dKvn_",
        "outputId": "66cb9af0-6a41-4f81-bd37-ad39b503874f"
      },
      "execution_count": 84,
      "outputs": [
        {
          "output_type": "stream",
          "name": "stdout",
          "text": [
            "\n",
            "HelloWorld.\n",
            "HelloWorld.\n",
            "HelloWorld.\n",
            "HelloWorld.\n",
            "HelloWorld.\n",
            "HelloWorld.\n",
            "HelloWorld.\n",
            "HelloWorld.\n",
            "HelloWorld.\n",
            "HelloWorld..."
          ]
        }
      ]
    },
    {
      "cell_type": "code",
      "source": [
        "p, q, r = 10, 20, 30\n",
        "print(p, q, r)"
      ],
      "metadata": {
        "colab": {
          "base_uri": "https://localhost:8080/"
        },
        "id": "9oilFVdmLTAX",
        "outputId": "9aa1d9af-e06f-4985-e0cf-df722c7cc602"
      },
      "execution_count": 85,
      "outputs": [
        {
          "output_type": "stream",
          "name": "stdout",
          "text": [
            "10 20 30\n"
          ]
        }
      ]
    },
    {
      "cell_type": "code",
      "source": [
        "var = \"Kaniyam\" *2 * 3\n",
        "print (var)"
      ],
      "metadata": {
        "colab": {
          "base_uri": "https://localhost:8080/"
        },
        "id": "Mt5tlv6PNfMj",
        "outputId": "e650003d-2f9a-4c38-ccb1-2fa6a0a72c7c"
      },
      "execution_count": 90,
      "outputs": [
        {
          "output_type": "stream",
          "name": "stdout",
          "text": [
            "KaniyamKaniyamKaniyamKaniyamKaniyamKaniyam\n"
          ]
        }
      ]
    }
  ]
}