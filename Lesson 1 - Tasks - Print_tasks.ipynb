{
  "nbformat": 4,
  "nbformat_minor": 0,
  "metadata": {
    "colab": {
      "provenance": [],
      "authorship_tag": "ABX9TyMW5/uzy2NX/7ozVZDAVaXx",
      "include_colab_link": true
    },
    "kernelspec": {
      "name": "python3",
      "display_name": "Python 3"
    },
    "language_info": {
      "name": "python"
    }
  },
  "cells": [
    {
      "cell_type": "markdown",
      "metadata": {
        "id": "view-in-github",
        "colab_type": "text"
      },
      "source": [
        "<a href=\"https://colab.research.google.com/github/tamilmetaverse/PythonBasics/blob/main/Lesson%201%20-%20Tasks%20-%20Print_tasks.ipynb\" target=\"_parent\"><img src=\"https://colab.research.google.com/assets/colab-badge.svg\" alt=\"Open In Colab\"/></a>"
      ]
    },
    {
      "cell_type": "markdown",
      "source": [
        "How do you print the string “Hello, world!” to the screen?"
      ],
      "metadata": {
        "id": "nHUd6v26Su0I"
      }
    },
    {
      "cell_type": "code",
      "execution_count": 1,
      "metadata": {
        "colab": {
          "base_uri": "https://localhost:8080/"
        },
        "id": "rfVuXxKzSMkq",
        "outputId": "034dcc5a-8f18-401b-8f25-3d9d54f788bd"
      },
      "outputs": [
        {
          "output_type": "stream",
          "name": "stdout",
          "text": [
            "Hello, world!\n"
          ]
        }
      ],
      "source": [
        "print(\"Hello, world!\")"
      ]
    },
    {
      "cell_type": "markdown",
      "source": [
        "How do you print the value of a variable name which is set to “Syed Jafer” or Your name?"
      ],
      "metadata": {
        "id": "Gva7Zn_KS2Ti"
      }
    },
    {
      "cell_type": "code",
      "source": [
        "name = \"Varun Kannan\"\n",
        "print(name)"
      ],
      "metadata": {
        "colab": {
          "base_uri": "https://localhost:8080/"
        },
        "id": "kVNg35gWS43w",
        "outputId": "c1eec6f9-80fc-492d-e480-afca2d629b4f"
      },
      "execution_count": 2,
      "outputs": [
        {
          "output_type": "stream",
          "name": "stdout",
          "text": [
            "Varun Kannan\n"
          ]
        }
      ]
    },
    {
      "cell_type": "markdown",
      "source": [
        "How do you print the variables name, age, and city with labels “Name:”, “Age:”, and “City:”?"
      ],
      "metadata": {
        "id": "o9z9uIdMTCQ6"
      }
    },
    {
      "cell_type": "code",
      "source": [
        "Name = \"Tamil Metaverse\"\n",
        "Age = \"42\"\n",
        "City = \"Trivandrum\"\n",
        "print(\"Name:\",Name)\n",
        "print(\"Age: \",Age)\n",
        "print(\"City: \", City)"
      ],
      "metadata": {
        "colab": {
          "base_uri": "https://localhost:8080/"
        },
        "id": "vclBIJYXTD3s",
        "outputId": "a6632b38-d4d2-4989-faac-dc6787a05d17"
      },
      "execution_count": 6,
      "outputs": [
        {
          "output_type": "stream",
          "name": "stdout",
          "text": [
            "Name: Tamil Metaverse\n",
            "Age:  42\n",
            "City:  Trivandrum\n"
          ]
        }
      ]
    },
    {
      "cell_type": "markdown",
      "source": [
        "How do you use an f-string to print name, age, and city in the format “Name: …, Age: …, City: …”?"
      ],
      "metadata": {
        "id": "e3kNJtHpVQ4F"
      }
    },
    {
      "cell_type": "code",
      "source": [
        "Name = \"Tamil Metaverse\"\n",
        "Age = \"42\"\n",
        "City = \"Trivandrum\"\n",
        "\n",
        "print(f\"Name:{name} Age:{Age} City:{City}\")"
      ],
      "metadata": {
        "colab": {
          "base_uri": "https://localhost:8080/"
        },
        "id": "rZx11p_tTnck",
        "outputId": "b15b90f8-be12-45b4-c219-7a66b5ef187a"
      },
      "execution_count": 15,
      "outputs": [
        {
          "output_type": "stream",
          "name": "stdout",
          "text": [
            "Name:Varun Kannan Age:42 City:Trivandrum\n"
          ]
        }
      ]
    },
    {
      "cell_type": "markdown",
      "source": [
        "How do you concatenate and print the strings greeting (“Hello”) and target (“world”) with a space between them?"
      ],
      "metadata": {
        "id": "WkoHXXDmWZuk"
      }
    },
    {
      "cell_type": "code",
      "source": [
        "print(\"Hello\\t\"+\"World\",) #used tab seperator - it gives big space\n",
        "print(\"Hello \"+ \"World\") #used space after hello, can do before world too\n",
        "print(\"Hello\",\" \",\"World\") #used space inside quotes\n",
        "print(\"Hello\" + \" \" + \"World\") #used space inside quotes with concatenation"
      ],
      "metadata": {
        "colab": {
          "base_uri": "https://localhost:8080/"
        },
        "id": "ELoMk21gUUAa",
        "outputId": "297c78dd-0498-4aa9-d71d-647b0992f220"
      },
      "execution_count": 27,
      "outputs": [
        {
          "output_type": "stream",
          "name": "stdout",
          "text": [
            "Hello\tWorld\n",
            "Hello World\n",
            "Hello   World\n",
            "Hello World\n"
          ]
        }
      ]
    },
    {
      "cell_type": "markdown",
      "source": [
        "How do you print three lines of text with the strings “Line1”, “Line2”, and “Line3” on separate lines?"
      ],
      "metadata": {
        "id": "-VD6vR_NzYVZ"
      }
    },
    {
      "cell_type": "code",
      "source": [
        "print(\" Line1\\n\",\"Line2\\n\", \"Line3\") #direct method\n"
      ],
      "metadata": {
        "colab": {
          "base_uri": "https://localhost:8080/"
        },
        "id": "uYxMMwbYzh_6",
        "outputId": "e43e61e3-39a8-4f46-9e12-15eea9b3aab8"
      },
      "execution_count": 41,
      "outputs": [
        {
          "output_type": "stream",
          "name": "stdout",
          "text": [
            " Line1\n",
            " Line2\n",
            " Line3\n"
          ]
        }
      ]
    },
    {
      "cell_type": "markdown",
      "source": [
        "How do you print the string C:\\Users\\Name without escaping the backslashes?"
      ],
      "metadata": {
        "id": "5lyC5TUi4eU0"
      }
    },
    {
      "cell_type": "code",
      "source": [
        "print(r\"C:\\Users\\Name\") #using raw string"
      ],
      "metadata": {
        "colab": {
          "base_uri": "https://localhost:8080/"
        },
        "id": "AFxyf2s70HTY",
        "outputId": "a2cb6e6a-e319-4398-9387-1c1677fdcefd"
      },
      "execution_count": 40,
      "outputs": [
        {
          "output_type": "stream",
          "name": "stdout",
          "text": [
            "C:\\Users\\Name\n"
          ]
        }
      ]
    },
    {
      "cell_type": "code",
      "source": [
        "print(5+3) #direct will give you the total\n",
        "total = 5+3\n",
        "print(total) # assign panni panradhu"
      ],
      "metadata": {
        "colab": {
          "base_uri": "https://localhost:8080/"
        },
        "id": "7Jwva9lx44ia",
        "outputId": "01ff7cc8-0718-4adb-d732-32f48bcd472c"
      },
      "execution_count": 45,
      "outputs": [
        {
          "output_type": "stream",
          "name": "stdout",
          "text": [
            "8\n",
            "8\n"
          ]
        }
      ]
    }
  ]
}